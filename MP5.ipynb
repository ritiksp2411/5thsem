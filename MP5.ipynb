{
  "nbformat": 4,
  "nbformat_minor": 0,
  "metadata": {
    "colab": {
      "name": "MP5",
      "provenance": [],
      "include_colab_link": true
    },
    "kernelspec": {
      "name": "python3",
      "display_name": "Python 3"
    }
  },
  "cells": [
    {
      "cell_type": "markdown",
      "metadata": {
        "id": "view-in-github",
        "colab_type": "text"
      },
      "source": [
        "<a href=\"https://colab.research.google.com/github/ritiksp2411/5thsem/blob/master/MP5.ipynb\" target=\"_parent\"><img src=\"https://colab.research.google.com/assets/colab-badge.svg\" alt=\"Open In Colab\"/></a>"
      ]
    },
    {
      "cell_type": "code",
      "metadata": {
        "id": "sgkerog9l-c9",
        "colab": {
          "base_uri": "https://localhost:8080/"
        },
        "outputId": "fb648c10-4612-4512-bea0-80777889dab3"
      },
      "source": [
        "import tensorflow as tf\n",
        "\n",
        "tf.compat.v1.disable_eager_execution()\n",
        "\n",
        "import tempfile\n",
        "import zipfile\n",
        "import os\n",
        "import h5py\n",
        "import numpy as np\n",
        "import glob\n",
        "from numpy import linalg as LA\n",
        "from scipy.stats import rankdata\n",
        "from shutil import copyfile, move\n",
        "\n",
        "\n",
        "batch_size = 128\n",
        "num_classes = 10\n",
        "epochs = 10\n",
        "\n",
        "# input image dimensions\n",
        "img_rows, img_cols = 28, 28\n",
        "\n",
        "# the data, shuffled and split between train and test sets\n",
        "(x_train, y_train), (x_test, y_test) = tf.keras.datasets.mnist.load_data()\n",
        "\n",
        "x_train = x_train.reshape(x_train.shape[0], img_rows*img_cols)\n",
        "x_test = x_test.reshape(x_test.shape[0], img_rows* img_cols)\n",
        "input_shape = (img_rows* img_cols, )\n",
        "\n",
        "x_train = x_train.astype('float32')\n",
        "x_test = x_test.astype('float32')\n",
        "x_train /= 255\n",
        "x_test /= 255\n",
        "print('x_train shape:', x_train.shape)\n",
        "print(x_train.shape[0], 'train samples')\n",
        "print(x_test.shape[0], 'test samples')\n",
        "\n",
        "# convert class vectors to binary class matrices\n",
        "y_train = tf.keras.utils.to_categorical(y_train, num_classes)\n",
        "y_test = tf.keras.utils.to_categorical(y_test, num_classes)"
      ],
      "execution_count": 1,
      "outputs": [
        {
          "output_type": "stream",
          "name": "stdout",
          "text": [
            "x_train shape: (60000, 784)\n",
            "60000 train samples\n",
            "10000 test samples\n"
          ]
        }
      ]
    },
    {
      "cell_type": "code",
      "metadata": {
        "id": "Qd5qpa1Bt88G",
        "colab": {
          "base_uri": "https://localhost:8080/",
          "height": 1000
        },
        "outputId": "19e6685d-fe8d-474f-9d49-965e2f10b71c"
      },
      "source": [
        "! pip uninstall -y tensorflow\n",
        "! pip uninstall -y tf-nightly\n",
        "! pip install -U tf-nightly-gpu\n",
        "! pip install tensorflow-model-optimization"
      ],
      "execution_count": 2,
      "outputs": [
        {
          "output_type": "stream",
          "name": "stdout",
          "text": [
            "Found existing installation: tensorflow 2.6.0\n",
            "Uninstalling tensorflow-2.6.0:\n",
            "  Successfully uninstalled tensorflow-2.6.0\n",
            "\u001b[33mWARNING: Skipping tf-nightly as it is not installed.\u001b[0m\n",
            "Collecting tf-nightly-gpu\n",
            "  Downloading tf_nightly_gpu-2.8.0.dev20211021-cp37-cp37m-manylinux2010_x86_64.whl (488.6 MB)\n",
            "\u001b[K     |████████████████████████████████| 488.6 MB 17 kB/s \n",
            "\u001b[?25hRequirement already satisfied: absl-py>=0.4.0 in /usr/local/lib/python3.7/dist-packages (from tf-nightly-gpu) (0.12.0)\n",
            "Requirement already satisfied: grpcio<2.0,>=1.24.3 in /usr/local/lib/python3.7/dist-packages (from tf-nightly-gpu) (1.41.0)\n",
            "Collecting keras-nightly~=2.8.0.dev\n",
            "  Downloading keras_nightly-2.8.0.dev2021102107-py2.py3-none-any.whl (1.3 MB)\n",
            "\u001b[K     |████████████████████████████████| 1.3 MB 43.8 MB/s \n",
            "\u001b[?25hRequirement already satisfied: opt-einsum>=2.3.2 in /usr/local/lib/python3.7/dist-packages (from tf-nightly-gpu) (3.3.0)\n",
            "Collecting tb-nightly~=2.7.0.a\n",
            "  Downloading tb_nightly-2.7.0a20211013-py3-none-any.whl (5.8 MB)\n",
            "\u001b[K     |████████████████████████████████| 5.8 MB 45.9 MB/s \n",
            "\u001b[?25hRequirement already satisfied: astunparse>=1.6.0 in /usr/local/lib/python3.7/dist-packages (from tf-nightly-gpu) (1.6.3)\n",
            "Requirement already satisfied: protobuf>=3.9.2 in /usr/local/lib/python3.7/dist-packages (from tf-nightly-gpu) (3.17.3)\n",
            "Requirement already satisfied: typing-extensions>=3.6.6 in /usr/local/lib/python3.7/dist-packages (from tf-nightly-gpu) (3.7.4.3)\n",
            "Collecting tf-estimator-nightly~=2.8.0.dev\n",
            "  Downloading tf_estimator_nightly-2.8.0.dev2021102108-py2.py3-none-any.whl (462 kB)\n",
            "\u001b[K     |████████████████████████████████| 462 kB 60.2 MB/s \n",
            "\u001b[?25hRequirement already satisfied: google-pasta>=0.1.1 in /usr/local/lib/python3.7/dist-packages (from tf-nightly-gpu) (0.2.0)\n",
            "Requirement already satisfied: wrapt>=1.11.0 in /usr/local/lib/python3.7/dist-packages (from tf-nightly-gpu) (1.12.1)\n",
            "Requirement already satisfied: numpy>=1.14.5 in /usr/local/lib/python3.7/dist-packages (from tf-nightly-gpu) (1.19.5)\n",
            "Requirement already satisfied: flatbuffers<3.0,>=1.12 in /usr/local/lib/python3.7/dist-packages (from tf-nightly-gpu) (1.12)\n",
            "Collecting tensorflow-io-gcs-filesystem>=0.21.0\n",
            "  Downloading tensorflow_io_gcs_filesystem-0.21.0-cp37-cp37m-manylinux_2_12_x86_64.manylinux2010_x86_64.whl (2.1 MB)\n",
            "\u001b[K     |████████████████████████████████| 2.1 MB 59.3 MB/s \n",
            "\u001b[?25hRequirement already satisfied: termcolor>=1.1.0 in /usr/local/lib/python3.7/dist-packages (from tf-nightly-gpu) (1.1.0)\n",
            "Requirement already satisfied: h5py>=2.9.0 in /usr/local/lib/python3.7/dist-packages (from tf-nightly-gpu) (3.1.0)\n",
            "Requirement already satisfied: keras-preprocessing>=1.1.1 in /usr/local/lib/python3.7/dist-packages (from tf-nightly-gpu) (1.1.2)\n",
            "Requirement already satisfied: six>=1.12.0 in /usr/local/lib/python3.7/dist-packages (from tf-nightly-gpu) (1.15.0)\n",
            "Requirement already satisfied: wheel<1.0,>=0.32.0 in /usr/local/lib/python3.7/dist-packages (from tf-nightly-gpu) (0.37.0)\n",
            "Requirement already satisfied: gast<0.5.0,>=0.2.1 in /usr/local/lib/python3.7/dist-packages (from tf-nightly-gpu) (0.4.0)\n",
            "Collecting libclang>=9.0.1\n",
            "  Downloading libclang-12.0.0-py2.py3-none-manylinux1_x86_64.whl (13.4 MB)\n",
            "\u001b[K     |████████████████████████████████| 13.4 MB 238 kB/s \n",
            "\u001b[?25hRequirement already satisfied: cached-property in /usr/local/lib/python3.7/dist-packages (from h5py>=2.9.0->tf-nightly-gpu) (1.5.2)\n",
            "Requirement already satisfied: google-auth<3,>=1.6.3 in /usr/local/lib/python3.7/dist-packages (from tb-nightly~=2.7.0.a->tf-nightly-gpu) (1.35.0)\n",
            "Requirement already satisfied: tensorboard-plugin-wit>=1.6.0 in /usr/local/lib/python3.7/dist-packages (from tb-nightly~=2.7.0.a->tf-nightly-gpu) (1.8.0)\n",
            "Requirement already satisfied: google-auth-oauthlib<0.5,>=0.4.1 in /usr/local/lib/python3.7/dist-packages (from tb-nightly~=2.7.0.a->tf-nightly-gpu) (0.4.6)\n",
            "Requirement already satisfied: markdown>=2.6.8 in /usr/local/lib/python3.7/dist-packages (from tb-nightly~=2.7.0.a->tf-nightly-gpu) (3.3.4)\n",
            "Requirement already satisfied: werkzeug>=0.11.15 in /usr/local/lib/python3.7/dist-packages (from tb-nightly~=2.7.0.a->tf-nightly-gpu) (1.0.1)\n",
            "Requirement already satisfied: setuptools>=41.0.0 in /usr/local/lib/python3.7/dist-packages (from tb-nightly~=2.7.0.a->tf-nightly-gpu) (57.4.0)\n",
            "Requirement already satisfied: tensorboard-data-server<0.7.0,>=0.6.0 in /usr/local/lib/python3.7/dist-packages (from tb-nightly~=2.7.0.a->tf-nightly-gpu) (0.6.1)\n",
            "Requirement already satisfied: requests<3,>=2.21.0 in /usr/local/lib/python3.7/dist-packages (from tb-nightly~=2.7.0.a->tf-nightly-gpu) (2.23.0)\n",
            "Requirement already satisfied: rsa<5,>=3.1.4 in /usr/local/lib/python3.7/dist-packages (from google-auth<3,>=1.6.3->tb-nightly~=2.7.0.a->tf-nightly-gpu) (4.7.2)\n",
            "Requirement already satisfied: cachetools<5.0,>=2.0.0 in /usr/local/lib/python3.7/dist-packages (from google-auth<3,>=1.6.3->tb-nightly~=2.7.0.a->tf-nightly-gpu) (4.2.4)\n",
            "Requirement already satisfied: pyasn1-modules>=0.2.1 in /usr/local/lib/python3.7/dist-packages (from google-auth<3,>=1.6.3->tb-nightly~=2.7.0.a->tf-nightly-gpu) (0.2.8)\n",
            "Requirement already satisfied: requests-oauthlib>=0.7.0 in /usr/local/lib/python3.7/dist-packages (from google-auth-oauthlib<0.5,>=0.4.1->tb-nightly~=2.7.0.a->tf-nightly-gpu) (1.3.0)\n",
            "Requirement already satisfied: importlib-metadata in /usr/local/lib/python3.7/dist-packages (from markdown>=2.6.8->tb-nightly~=2.7.0.a->tf-nightly-gpu) (4.8.1)\n",
            "Requirement already satisfied: pyasn1<0.5.0,>=0.4.6 in /usr/local/lib/python3.7/dist-packages (from pyasn1-modules>=0.2.1->google-auth<3,>=1.6.3->tb-nightly~=2.7.0.a->tf-nightly-gpu) (0.4.8)\n",
            "Requirement already satisfied: urllib3!=1.25.0,!=1.25.1,<1.26,>=1.21.1 in /usr/local/lib/python3.7/dist-packages (from requests<3,>=2.21.0->tb-nightly~=2.7.0.a->tf-nightly-gpu) (1.24.3)\n",
            "Requirement already satisfied: chardet<4,>=3.0.2 in /usr/local/lib/python3.7/dist-packages (from requests<3,>=2.21.0->tb-nightly~=2.7.0.a->tf-nightly-gpu) (3.0.4)\n",
            "Requirement already satisfied: idna<3,>=2.5 in /usr/local/lib/python3.7/dist-packages (from requests<3,>=2.21.0->tb-nightly~=2.7.0.a->tf-nightly-gpu) (2.10)\n",
            "Requirement already satisfied: certifi>=2017.4.17 in /usr/local/lib/python3.7/dist-packages (from requests<3,>=2.21.0->tb-nightly~=2.7.0.a->tf-nightly-gpu) (2021.5.30)\n",
            "Requirement already satisfied: oauthlib>=3.0.0 in /usr/local/lib/python3.7/dist-packages (from requests-oauthlib>=0.7.0->google-auth-oauthlib<0.5,>=0.4.1->tb-nightly~=2.7.0.a->tf-nightly-gpu) (3.1.1)\n",
            "Requirement already satisfied: zipp>=0.5 in /usr/local/lib/python3.7/dist-packages (from importlib-metadata->markdown>=2.6.8->tb-nightly~=2.7.0.a->tf-nightly-gpu) (3.6.0)\n",
            "Installing collected packages: tf-estimator-nightly, tensorflow-io-gcs-filesystem, tb-nightly, libclang, keras-nightly, tf-nightly-gpu\n",
            "Successfully installed keras-nightly-2.8.0.dev2021102107 libclang-12.0.0 tb-nightly-2.7.0a20211013 tensorflow-io-gcs-filesystem-0.21.0 tf-estimator-nightly-2.8.0.dev2021102108 tf-nightly-gpu-2.8.0.dev20211021\n"
          ]
        },
        {
          "output_type": "display_data",
          "data": {
            "application/vnd.colab-display-data+json": {
              "pip_warning": {
                "packages": [
                  "keras",
                  "tensorboard",
                  "tensorflow"
                ]
              }
            }
          },
          "metadata": {}
        },
        {
          "output_type": "stream",
          "name": "stdout",
          "text": [
            "Collecting tensorflow-model-optimization\n",
            "  Downloading tensorflow_model_optimization-0.7.0-py2.py3-none-any.whl (213 kB)\n",
            "\u001b[K     |████████████████████████████████| 213 kB 5.2 MB/s \n",
            "\u001b[?25hRequirement already satisfied: dm-tree~=0.1.1 in /usr/local/lib/python3.7/dist-packages (from tensorflow-model-optimization) (0.1.6)\n",
            "Requirement already satisfied: numpy~=1.14 in /usr/local/lib/python3.7/dist-packages (from tensorflow-model-optimization) (1.19.5)\n",
            "Requirement already satisfied: six~=1.10 in /usr/local/lib/python3.7/dist-packages (from tensorflow-model-optimization) (1.15.0)\n",
            "Installing collected packages: tensorflow-model-optimization\n",
            "Successfully installed tensorflow-model-optimization-0.7.0\n"
          ]
        }
      ]
    },
    {
      "cell_type": "code",
      "metadata": {
        "id": "an7TmQ6YmDck",
        "colab": {
          "base_uri": "https://localhost:8080/"
        },
        "outputId": "1a89b2f4-9712-4411-d324-fe84ddfcbda1"
      },
      "source": [
        "from tensorflow.python.framework import ops\n",
        "ops.reset_default_graph()\n",
        "l = tf.keras.layers\n",
        "\n",
        "model = tf.keras.Sequential([\n",
        "    l.Dense(1000, input_shape=input_shape),\n",
        "    l.Dense(1000, activation='relu'),\n",
        "    l.Dense(500, activation='relu'),\n",
        "    l.Dense(200, activation='relu'),\n",
        "    l.Dense(num_classes, activation='softmax')\n",
        "])\n",
        "\n",
        "model.summary()"
      ],
      "execution_count": 4,
      "outputs": [
        {
          "output_type": "stream",
          "name": "stdout",
          "text": [
            "Model: \"sequential\"\n",
            "_________________________________________________________________\n",
            "Layer (type)                 Output Shape              Param #   \n",
            "=================================================================\n",
            "dense (Dense)                (None, 1000)              785000    \n",
            "_________________________________________________________________\n",
            "dense_1 (Dense)              (None, 1000)              1001000   \n",
            "_________________________________________________________________\n",
            "dense_2 (Dense)              (None, 500)               500500    \n",
            "_________________________________________________________________\n",
            "dense_3 (Dense)              (None, 200)               100200    \n",
            "_________________________________________________________________\n",
            "dense_4 (Dense)              (None, 10)                2010      \n",
            "=================================================================\n",
            "Total params: 2,388,710\n",
            "Trainable params: 2,388,710\n",
            "Non-trainable params: 0\n",
            "_________________________________________________________________\n"
          ]
        }
      ]
    },
    {
      "cell_type": "code",
      "metadata": {
        "id": "QwuRIJNFnPeQ"
      },
      "source": [
        "%load_ext tensorboard\n",
        "import tensorboard"
      ],
      "execution_count": 5,
      "outputs": []
    },
    {
      "cell_type": "code",
      "metadata": {
        "id": "B_uDnkKOtZry",
        "colab": {
          "base_uri": "https://localhost:8080/",
          "height": 504
        },
        "outputId": "aee2db2a-4612-48a4-81c3-ef6b7312512e"
      },
      "source": [
        "logdir = tempfile.mkdtemp()\n",
        "print('Writing training logs to ' + logdir)\n",
        "%tensorboard --logdir={logdir}"
      ],
      "execution_count": 6,
      "outputs": [
        {
          "output_type": "stream",
          "name": "stdout",
          "text": [
            "Writing training logs to /tmp/tmpwhieho1_\n"
          ]
        },
        {
          "output_type": "display_data",
          "data": {
            "text/plain": [
              "ERROR: Failed to launch TensorBoard (exited with 1).\n",
              "Contents of stderr:\n",
              "2021-10-22 07:10:52.029381: E tensorflow/stream_executor/cuda/cuda_driver.cc:271] failed call to cuInit: CUDA_ERROR_NO_DEVICE: no CUDA-capable device is detected\n",
              "\n",
              "NOTE: Using experimental fast data loading logic. To disable, pass\n",
              "    \"--load_fast=false\" and report issues on GitHub. More details:\n",
              "    https://github.com/tensorflow/tensorboard/issues/4784\n",
              "\n",
              "Traceback (most recent call last):\n",
              "  File \"/usr/local/bin/tensorboard\", line 8, in <module>\n",
              "    sys.exit(run_main())\n",
              "  File \"/usr/local/lib/python3.7/dist-packages/tensorboard/main.py\", line 46, in run_main\n",
              "    app.run(tensorboard.main, flags_parser=tensorboard.configure)\n",
              "  File \"/usr/local/lib/python3.7/dist-packages/absl/app.py\", line 303, in run\n",
              "    _run_main(main, args)\n",
              "  File \"/usr/local/lib/python3.7/dist-packages/absl/app.py\", line 251, in _run_main\n",
              "    sys.exit(main(argv))\n",
              "  File \"/usr/local/lib/python3.7/dist-packages/tensorboard/program.py\", line 276, in main\n",
              "    return runner(self.flags) or 0\n",
              "  File \"/usr/local/lib/python3.7/dist-packages/tensorboard/program.py\", line 292, in _run_serve_subcommand\n",
              "    server = self._make_server()\n",
              "  File \"/usr/local/lib/python3.7/dist-packages/tensorboard/program.py\", line 481, in _make_server\n",
              "    deprecated_multiplexer,\n",
              "  File \"/usr/local/lib/python3.7/dist-packages/tensorboard/backend/application.py\", line 145, in TensorBoardWSGIApp\n",
              "    experimental_middlewares,\n",
              "  File \"/usr/local/lib/python3.7/dist-packages/tensorboard/backend/application.py\", line 253, in __init__\n",
              "    \"Duplicate plugins for name %s\" % plugin.plugin_name\n",
              "ValueError: Duplicate plugins for name projector"
            ]
          },
          "metadata": {}
        }
      ]
    },
    {
      "cell_type": "code",
      "metadata": {
        "id": "CK0HrUPMtyWD",
        "colab": {
          "base_uri": "https://localhost:8080/"
        },
        "outputId": "ef547739-a24f-495e-c894-ae289f2a770e"
      },
      "source": [
        "callbacks = [tf.keras.callbacks.TensorBoard(log_dir=logdir, profile_batch=0)]\n",
        "\n",
        "model.compile(\n",
        "    loss=tf.keras.losses.categorical_crossentropy,\n",
        "    optimizer='adam',\n",
        "    metrics=['accuracy'])\n",
        "\n",
        "model.fit(x_train, y_train,\n",
        "          batch_size=batch_size,\n",
        "          epochs=10,\n",
        "          verbose=1,\n",
        "          callbacks=callbacks,\n",
        "          validation_data=(x_test, y_test))\n",
        "score = model.evaluate(x_test, y_test, verbose=0)\n",
        "print('Test loss:', score[0])\n",
        "print('Test accuracy:', score[1])"
      ],
      "execution_count": 7,
      "outputs": [
        {
          "output_type": "stream",
          "name": "stdout",
          "text": [
            "Train on 60000 samples, validate on 10000 samples\n",
            "Epoch 1/10\n",
            "59904/60000 [============================>.] - ETA: 0s - loss: 0.2138 - accuracy: 0.9357"
          ]
        },
        {
          "output_type": "stream",
          "name": "stderr",
          "text": [
            "/usr/local/lib/python3.7/dist-packages/keras/engine/training.py:2470: UserWarning: `Model.state_updates` will be removed in a future version. This property should not be used in TensorFlow 2.0, as `updates` are applied automatically.\n",
            "  raise NotImplementedError(\n"
          ]
        },
        {
          "output_type": "stream",
          "name": "stdout",
          "text": [
            "60000/60000 [==============================] - 23s 382us/sample - loss: 0.2136 - accuracy: 0.9358 - val_loss: 0.1396 - val_accuracy: 0.9589\n",
            "Epoch 2/10\n",
            "60000/60000 [==============================] - 23s 380us/sample - loss: 0.1083 - accuracy: 0.9663 - val_loss: 0.1062 - val_accuracy: 0.9663\n",
            "Epoch 3/10\n",
            "60000/60000 [==============================] - 23s 375us/sample - loss: 0.0825 - accuracy: 0.9739 - val_loss: 0.1186 - val_accuracy: 0.9631\n",
            "Epoch 4/10\n",
            "60000/60000 [==============================] - 23s 376us/sample - loss: 0.0713 - accuracy: 0.9783 - val_loss: 0.0915 - val_accuracy: 0.9725\n",
            "Epoch 5/10\n",
            "60000/60000 [==============================] - 23s 377us/sample - loss: 0.0593 - accuracy: 0.9816 - val_loss: 0.1128 - val_accuracy: 0.9703\n",
            "Epoch 6/10\n",
            "60000/60000 [==============================] - 22s 374us/sample - loss: 0.0576 - accuracy: 0.9819 - val_loss: 0.0870 - val_accuracy: 0.9752\n",
            "Epoch 7/10\n",
            "60000/60000 [==============================] - 23s 378us/sample - loss: 0.0453 - accuracy: 0.9853 - val_loss: 0.0760 - val_accuracy: 0.9780\n",
            "Epoch 8/10\n",
            "60000/60000 [==============================] - 23s 379us/sample - loss: 0.0422 - accuracy: 0.9868 - val_loss: 0.0832 - val_accuracy: 0.9777\n",
            "Epoch 9/10\n",
            "60000/60000 [==============================] - 23s 378us/sample - loss: 0.0363 - accuracy: 0.9886 - val_loss: 0.1666 - val_accuracy: 0.9680\n",
            "Epoch 10/10\n",
            "60000/60000 [==============================] - 23s 379us/sample - loss: 0.0373 - accuracy: 0.9880 - val_loss: 0.0869 - val_accuracy: 0.9757\n",
            "Test loss: 0.08688047268189984\n",
            "Test accuracy: 0.9757\n"
          ]
        }
      ]
    },
    {
      "cell_type": "code",
      "metadata": {
        "id": "Ev3O8EPSZE0n"
      },
      "source": [
        "#Save model\n",
        "_, model_file = tempfile.mkstemp('.h5')\n",
        "tf.keras.models.save_model(model, model_file, include_optimizer=False)"
      ],
      "execution_count": 8,
      "outputs": []
    },
    {
      "cell_type": "markdown",
      "metadata": {
        "id": "I1W3oGc8Xf12"
      },
      "source": [
        "# Weight pruning"
      ]
    },
    {
      "cell_type": "code",
      "metadata": {
        "id": "gptJSUTOauhM"
      },
      "source": [
        "for k in [.25, .50, .60, .70, .80, .90, .95, .97, .99]:\n",
        "  copyfile(model_file,\"/tmp/orig.h5\")\n",
        "  f = h5py.File(\"/tmp/orig.h5\",'r+')\n",
        "  ranks = {}\n",
        "  for l in list(f['model_weights'])[:-1]:\n",
        "#   for l in ['dense', 'dense_1', 'dense_2', 'dense_3']:\n",
        "    data = f['model_weights'][l][l]['kernel:0']\n",
        "    w = np.array(data)\n",
        "    ranks[l]=(rankdata(np.abs(w),method='dense') - 1).astype(int).reshape(w.shape)\n",
        "    lower_bound_rank = np.ceil(np.max(ranks[l])*k).astype(int)\n",
        "    ranks[l][ranks[l]<=lower_bound_rank] = 0\n",
        "    ranks[l][ranks[l]>lower_bound_rank] = 1\n",
        "    w = w*ranks[l]\n",
        "    data[...] = w\n",
        "  f.close()\n",
        "  move(\"/tmp/orig.h5\",\"/tmp/weight_\"+str(k)+\".h5\")"
      ],
      "execution_count": 9,
      "outputs": []
    },
    {
      "cell_type": "markdown",
      "metadata": {
        "id": "HiisDLknXiiu"
      },
      "source": [
        "# Neuron pruning"
      ]
    },
    {
      "cell_type": "code",
      "metadata": {
        "id": "r1YO9MRyXl71"
      },
      "source": [
        "for k in [.25, .50, .60, .70, .80, .90, .95, .97, .99]:\n",
        "  copyfile(model_file,\"/tmp/orig.h5\")\n",
        "  f = h5py.File(\"/tmp/orig.h5\",'r+')\n",
        "  ranks = {}\n",
        "  for l in list(f['model_weights'])[:-1]:\n",
        "#   for l in ['dense', 'dense_1', 'dense_2', 'dense_3']:\n",
        "    data = f['model_weights'][l][l]['kernel:0']\n",
        "    w = np.array(data)\n",
        "    norm = LA.norm(w,axis=0)\n",
        "    norm = np.tile(norm,(w.shape[0],1))\n",
        "    ranks[l] = (rankdata(norm,method='dense') - 1).astype(int).reshape(norm.shape)\n",
        "    lower_bound_rank = np.ceil(np.max(ranks[l])*k).astype(int)\n",
        "    ranks[l][ranks[l]<=lower_bound_rank] = 0\n",
        "    ranks[l][ranks[l]>lower_bound_rank] = 1\n",
        "    w = w*ranks[l]\n",
        "    data[...] = w\n",
        "  f.close()\n",
        "  move(\"/tmp/orig.h5\",\"/tmp/neuron\"+str(k)+\".h5\")"
      ],
      "execution_count": 10,
      "outputs": []
    },
    {
      "cell_type": "code",
      "metadata": {
        "id": "z4oP6FDKuOJE",
        "colab": {
          "base_uri": "https://localhost:8080/"
        },
        "outputId": "315d1f80-2714-46db-ff4f-f7aaa22b3e72"
      },
      "source": [
        "files_weights = glob.glob('/tmp/weight*.h5')\n",
        "files_weights.sort()\n",
        "files_neuron = glob.glob('/tmp/neuron*.h5')\n",
        "files_neuron.sort()\n",
        "  \n",
        "accuracy_weights = []\n",
        "accuracy_neurons = []\n",
        "\n",
        "for f in files_weights:\n",
        "  restored_model = tf.keras.models.load_model(f,compile=False)\n",
        "  restored_model.compile(\n",
        "    loss=tf.keras.losses.categorical_crossentropy,\n",
        "    optimizer='adam',\n",
        "    metrics=['accuracy'])\n",
        "  score = restored_model.evaluate(x_test, y_test, verbose=0)\n",
        "  fl = h5py.File(f)\n",
        "  params = 0\n",
        "#   for l in list(fl['model_weights']):\n",
        "#     val = np.array(fl['model_weights'][l][l]['kernel:0'])\n",
        "#     params += val[val>0].shape[0]\n",
        "  accuracy_weights.append(score[1])\n",
        "#   print('Params ',params)\n",
        "#   print('Model ',f)\n",
        "#   print('Test accuracy:', score[1])\n",
        "\n",
        "\n",
        "for f in files_neuron:\n",
        "  restored_model = tf.keras.models.load_model(f,compile=False)\n",
        "  restored_model.compile(\n",
        "    loss=tf.keras.losses.categorical_crossentropy,\n",
        "    optimizer='adam',\n",
        "    metrics=['accuracy'])\n",
        "  score = restored_model.evaluate(x_test, y_test, verbose=0)\n",
        "  fl = h5py.File(f)\n",
        "  params = 0\n",
        "#   for l in list(fl['model_weights']):\n",
        "#     val = np.array(fl['model_weights'][l][l]['kernel:0'])\n",
        "#     params += val[val>0].shape[0]\n",
        "  accuracy_neurons.append(score[1])"
      ],
      "execution_count": 11,
      "outputs": [
        {
          "output_type": "stream",
          "name": "stderr",
          "text": [
            "/usr/local/lib/python3.7/dist-packages/keras/engine/training.py:2470: UserWarning: `Model.state_updates` will be removed in a future version. This property should not be used in TensorFlow 2.0, as `updates` are applied automatically.\n",
            "  raise NotImplementedError(\n"
          ]
        }
      ]
    },
    {
      "cell_type": "code",
      "metadata": {
        "id": "EGvrfdnxZQV_",
        "colab": {
          "base_uri": "https://localhost:8080/",
          "height": 313
        },
        "outputId": "1d11f9a4-baad-42b7-fae6-8e5adf921460"
      },
      "source": [
        "import matplotlib.pyplot as plt\n",
        "import matplotlib.patches as mpatches\n",
        "plt.rcParams['figure.constrained_layout.use'] = True\n",
        "plt.xlabel('% sparsity')\n",
        "plt.ylabel('% accuracy')\n",
        "red_patch = mpatches.Patch(color='red', label='Neuron Pruning')\n",
        "blue_patch = mpatches.Patch(color='blue',label='Weight Pruning')\n",
        "plt.legend(handles=[red_patch,blue_patch],loc='upper right')\n",
        "plt.plot([.25, .50, .60, .70, .80, .90, .95, .97, .99],accuracy_neurons,color='red')\n",
        "plt.plot([.25, .50, .60, .70, .80, .90, .95, .97, .99],accuracy_weights,color='blue')\n",
        "plt.show()"
      ],
      "execution_count": 12,
      "outputs": [
        {
          "output_type": "display_data",
          "data": {
            "image/png": "[encoded data removed]",
            "text/plain": [
              "<Figure size 432x288 with 1 Axes>"
            ]
          },
          "metadata": {
            "needs_background": "light"
          }
        }
      ]
    },
    {
      "cell_type": "markdown",
      "metadata": {
        "id": "Jbs5FbLDmp0m"
      },
      "source": [
        "Train pruned model for 4 epochs"
      ]
    },
    {
      "cell_type": "code",
      "metadata": {
        "id": "oqYR87d9mtlx"
      },
      "source": [
        "# restored_model = tf.keras.models.load_model(\"/tmp/tmp7nupdbpk_0.9.h5\",compile=False)\n",
        "# restored_model.compile(\n",
        "#     loss=tf.keras.losses.categorical_crossentropy,\n",
        "#     optimizer='adam',\n",
        "#     metrics=['accuracy'])\n",
        "# restored_model.fit(x_train, y_train,\n",
        "#           batch_size=batch_size,\n",
        "#           epochs=4,\n",
        "#           verbose=1,\n",
        "#           validation_data=(x_test, y_test))\n",
        "# score = restored_model.evaluate(x_test, y_test, verbose=0)\n",
        "# tf.keras.models.save_model(restored_model, '/tmp/pruned_retrained.h5', include_optimizer=False)\n",
        "# print('Test loss:', score[0])\n",
        "# print('Test accuracy:', score[1])"
      ],
      "execution_count": 13,
      "outputs": []
    },
    {
      "cell_type": "code",
      "metadata": {
        "id": "Egstyp8b-037",
        "colab": {
          "base_uri": "https://localhost:8080/"
        },
        "outputId": "c9801e6d-9546-4ef0-e84c-75db38cb3bab"
      },
      "source": [
        "pruned_keras_files = files_neuron+files_weights\n",
        "_, zip1 = tempfile.mkstemp('.zip') \n",
        "with zipfile.ZipFile(zip1, 'w', compression=zipfile.ZIP_DEFLATED) as f:\n",
        "  f.write(model_file)\n",
        "print(\"Size of the unpruned model before compression: %.2f Mb\" % \n",
        "      (os.path.getsize(model_file) / float(2**20)))\n",
        "print(\"Size of the unpruned model after compression: %.2f Mb\" % \n",
        "      (os.path.getsize(zip1) / float(2**20)))\n",
        "\n",
        "for pruned_keras_file in pruned_keras_files:\n",
        "  _, zip2 = tempfile.mkstemp('.zip') \n",
        "  with zipfile.ZipFile(zip2, 'w', compression=zipfile.ZIP_DEFLATED) as f:\n",
        "    f.write(pruned_keras_file)\n",
        "  print(\"Size of the pruned model before compression: %.2f Mb\" % \n",
        "        (os.path.getsize(pruned_keras_file) / float(2**20)))\n",
        "  print(\"Size of the pruned model after compression: %.2f Mb\" % \n",
        "        (os.path.getsize(zip2) / float(2**20)))\n",
        "\n"
      ],
      "execution_count": 14,
      "outputs": [
        {
          "output_type": "stream",
          "name": "stdout",
          "text": [
            "Size of the unpruned model before compression: 9.13 Mb\n",
            "Size of the unpruned model after compression: 8.44 Mb\n",
            "Size of the pruned model before compression: 9.13 Mb\n",
            "Size of the pruned model after compression: 7.08 Mb\n",
            "Size of the pruned model before compression: 9.13 Mb\n",
            "Size of the pruned model after compression: 5.29 Mb\n",
            "Size of the pruned model before compression: 9.13 Mb\n",
            "Size of the pruned model after compression: 4.49 Mb\n",
            "Size of the pruned model before compression: 9.13 Mb\n",
            "Size of the pruned model after compression: 3.65 Mb\n",
            "Size of the pruned model before compression: 9.13 Mb\n",
            "Size of the pruned model after compression: 2.76 Mb\n",
            "Size of the pruned model before compression: 9.13 Mb\n",
            "Size of the pruned model after compression: 1.79 Mb\n",
            "Size of the pruned model before compression: 9.13 Mb\n",
            "Size of the pruned model after compression: 1.25 Mb\n",
            "Size of the pruned model before compression: 9.13 Mb\n",
            "Size of the pruned model after compression: 1.02 Mb\n",
            "Size of the pruned model before compression: 9.13 Mb\n",
            "Size of the pruned model after compression: 0.76 Mb\n",
            "Size of the pruned model before compression: 9.13 Mb\n",
            "Size of the pruned model after compression: 6.97 Mb\n",
            "Size of the pruned model before compression: 9.13 Mb\n",
            "Size of the pruned model after compression: 5.13 Mb\n",
            "Size of the pruned model before compression: 9.13 Mb\n",
            "Size of the pruned model after compression: 4.36 Mb\n",
            "Size of the pruned model before compression: 9.13 Mb\n",
            "Size of the pruned model after compression: 3.53 Mb\n",
            "Size of the pruned model before compression: 9.13 Mb\n",
            "Size of the pruned model after compression: 2.68 Mb\n",
            "Size of the pruned model before compression: 9.13 Mb\n",
            "Size of the pruned model after compression: 1.75 Mb\n",
            "Size of the pruned model before compression: 9.13 Mb\n",
            "Size of the pruned model after compression: 1.23 Mb\n",
            "Size of the pruned model before compression: 9.13 Mb\n",
            "Size of the pruned model after compression: 1.01 Mb\n",
            "Size of the pruned model before compression: 9.13 Mb\n",
            "Size of the pruned model after compression: 0.77 Mb\n"
          ]
        }
      ]
    },
    {
      "cell_type": "code",
      "metadata": {
        "id": "5w6vKZ3gWime"
      },
      "source": [
        ""
      ],
      "execution_count": null,
      "outputs": []
    }
  ]
}